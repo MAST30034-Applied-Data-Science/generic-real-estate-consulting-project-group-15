{
 "cells": [
  {
   "cell_type": "code",
   "execution_count": 1,
   "id": "f2d3c61e",
   "metadata": {},
   "outputs": [],
   "source": [
    "import pandas as pd\n",
    "import openrouteservice as ors\n",
    "from openrouteservice.directions import directions\n",
    "from openrouteservice import convert\n",
    "import numpy as np"
   ]
  },
  {
   "cell_type": "code",
   "execution_count": 2,
   "id": "c28a5b10",
   "metadata": {},
   "outputs": [],
   "source": [
    "client = ors.Client(key='')"
   ]
  },
  {
   "cell_type": "code",
   "execution_count": 12,
   "id": "e41e2adf",
   "metadata": {},
   "outputs": [],
   "source": [
    "df = pd.read_csv(\"../webscrap_data.csv\")\n",
    "df.head()\n",
    "df = df.iloc[:,0:9]"
   ]
  },
  {
   "cell_type": "code",
   "execution_count": 13,
   "id": "62010525",
   "metadata": {},
   "outputs": [
    {
     "data": {
      "text/html": [
       "<div>\n",
       "<style scoped>\n",
       "    .dataframe tbody tr th:only-of-type {\n",
       "        vertical-align: middle;\n",
       "    }\n",
       "\n",
       "    .dataframe tbody tr th {\n",
       "        vertical-align: top;\n",
       "    }\n",
       "\n",
       "    .dataframe thead th {\n",
       "        text-align: right;\n",
       "    }\n",
       "</style>\n",
       "<table border=\"1\" class=\"dataframe\">\n",
       "  <thead>\n",
       "    <tr style=\"text-align: right;\">\n",
       "      <th></th>\n",
       "      <th>url</th>\n",
       "      <th>postcode</th>\n",
       "      <th>longitude</th>\n",
       "      <th>latitude</th>\n",
       "      <th>price</th>\n",
       "      <th>bed</th>\n",
       "      <th>bath</th>\n",
       "      <th>parking</th>\n",
       "      <th>desc</th>\n",
       "    </tr>\n",
       "  </thead>\n",
       "  <tbody>\n",
       "    <tr>\n",
       "      <th>0</th>\n",
       "      <td>https://www.domain.com.au/9-21-rockley-road-so...</td>\n",
       "      <td>3141</td>\n",
       "      <td>144.999757</td>\n",
       "      <td>-37.837338</td>\n",
       "      <td>400.0</td>\n",
       "      <td>1</td>\n",
       "      <td>1</td>\n",
       "      <td>1.0</td>\n",
       "      <td>LIGHT, LOCATION AND IMPRESSIVE ENHANCEMENTS In...</td>\n",
       "    </tr>\n",
       "    <tr>\n",
       "      <th>1</th>\n",
       "      <td>https://www.domain.com.au/35-233-canterbury-ro...</td>\n",
       "      <td>3182</td>\n",
       "      <td>144.976195</td>\n",
       "      <td>-37.859150</td>\n",
       "      <td>360.0</td>\n",
       "      <td>1</td>\n",
       "      <td>1</td>\n",
       "      <td>1.0</td>\n",
       "      <td>PLEASE NOTE THAT THIS PROPERTY IS OFFERED UN-F...</td>\n",
       "    </tr>\n",
       "    <tr>\n",
       "      <th>2</th>\n",
       "      <td>https://www.domain.com.au/2-31-howitt-street-s...</td>\n",
       "      <td>3141</td>\n",
       "      <td>145.002817</td>\n",
       "      <td>-37.846776</td>\n",
       "      <td>320.0</td>\n",
       "      <td>1</td>\n",
       "      <td>1</td>\n",
       "      <td>NaN</td>\n",
       "      <td>ARRANGE AN INSPECTION TIME ONLINE - DETAILS BE...</td>\n",
       "    </tr>\n",
       "    <tr>\n",
       "      <th>3</th>\n",
       "      <td>https://www.domain.com.au/2-17-railway-parade-...</td>\n",
       "      <td>3163</td>\n",
       "      <td>145.069344</td>\n",
       "      <td>-37.891722</td>\n",
       "      <td>360.0</td>\n",
       "      <td>1</td>\n",
       "      <td>1</td>\n",
       "      <td>1.0</td>\n",
       "      <td>The Vida apartments offer quality living in a ...</td>\n",
       "    </tr>\n",
       "    <tr>\n",
       "      <th>4</th>\n",
       "      <td>https://www.domain.com.au/4-653-park-street-br...</td>\n",
       "      <td>3056</td>\n",
       "      <td>144.964991</td>\n",
       "      <td>-37.778276</td>\n",
       "      <td>380.0</td>\n",
       "      <td>1</td>\n",
       "      <td>1</td>\n",
       "      <td>1.0</td>\n",
       "      <td>AFFORDABLE OPPORTUNITY IN EXCLUSIVE BRUNSWICK!...</td>\n",
       "    </tr>\n",
       "  </tbody>\n",
       "</table>\n",
       "</div>"
      ],
      "text/plain": [
       "                                                 url  postcode   longitude  \\\n",
       "0  https://www.domain.com.au/9-21-rockley-road-so...      3141  144.999757   \n",
       "1  https://www.domain.com.au/35-233-canterbury-ro...      3182  144.976195   \n",
       "2  https://www.domain.com.au/2-31-howitt-street-s...      3141  145.002817   \n",
       "3  https://www.domain.com.au/2-17-railway-parade-...      3163  145.069344   \n",
       "4  https://www.domain.com.au/4-653-park-street-br...      3056  144.964991   \n",
       "\n",
       "    latitude  price  bed  bath  parking  \\\n",
       "0 -37.837338  400.0    1     1      1.0   \n",
       "1 -37.859150  360.0    1     1      1.0   \n",
       "2 -37.846776  320.0    1     1      NaN   \n",
       "3 -37.891722  360.0    1     1      1.0   \n",
       "4 -37.778276  380.0    1     1      1.0   \n",
       "\n",
       "                                                desc  \n",
       "0  LIGHT, LOCATION AND IMPRESSIVE ENHANCEMENTS In...  \n",
       "1  PLEASE NOTE THAT THIS PROPERTY IS OFFERED UN-F...  \n",
       "2  ARRANGE AN INSPECTION TIME ONLINE - DETAILS BE...  \n",
       "3  The Vida apartments offer quality living in a ...  \n",
       "4  AFFORDABLE OPPORTUNITY IN EXCLUSIVE BRUNSWICK!...  "
      ]
     },
     "execution_count": 13,
     "metadata": {},
     "output_type": "execute_result"
    }
   ],
   "source": [
    "df.columns = ['url', 'postcode', 'longitude', 'latitude', 'price', 'bed', 'bath', 'parking', 'desc']\n",
    "df.head()"
   ]
  },
  {
   "cell_type": "code",
   "execution_count": 14,
   "id": "ab06fb5a",
   "metadata": {},
   "outputs": [
    {
     "data": {
      "text/html": [
       "<div>\n",
       "<style scoped>\n",
       "    .dataframe tbody tr th:only-of-type {\n",
       "        vertical-align: middle;\n",
       "    }\n",
       "\n",
       "    .dataframe tbody tr th {\n",
       "        vertical-align: top;\n",
       "    }\n",
       "\n",
       "    .dataframe thead th {\n",
       "        text-align: right;\n",
       "    }\n",
       "</style>\n",
       "<table border=\"1\" class=\"dataframe\">\n",
       "  <thead>\n",
       "    <tr style=\"text-align: right;\">\n",
       "      <th></th>\n",
       "      <th>longitude</th>\n",
       "      <th>latitude</th>\n",
       "    </tr>\n",
       "  </thead>\n",
       "  <tbody>\n",
       "    <tr>\n",
       "      <th>0</th>\n",
       "      <td>144.999757</td>\n",
       "      <td>-37.837338</td>\n",
       "    </tr>\n",
       "    <tr>\n",
       "      <th>1</th>\n",
       "      <td>144.976195</td>\n",
       "      <td>-37.859150</td>\n",
       "    </tr>\n",
       "    <tr>\n",
       "      <th>2</th>\n",
       "      <td>145.002817</td>\n",
       "      <td>-37.846776</td>\n",
       "    </tr>\n",
       "    <tr>\n",
       "      <th>3</th>\n",
       "      <td>145.069344</td>\n",
       "      <td>-37.891722</td>\n",
       "    </tr>\n",
       "    <tr>\n",
       "      <th>4</th>\n",
       "      <td>144.964991</td>\n",
       "      <td>-37.778276</td>\n",
       "    </tr>\n",
       "  </tbody>\n",
       "</table>\n",
       "</div>"
      ],
      "text/plain": [
       "    longitude   latitude\n",
       "0  144.999757 -37.837338\n",
       "1  144.976195 -37.859150\n",
       "2  145.002817 -37.846776\n",
       "3  145.069344 -37.891722\n",
       "4  144.964991 -37.778276"
      ]
     },
     "execution_count": 14,
     "metadata": {},
     "output_type": "execute_result"
    }
   ],
   "source": [
    "df_coords = df[['longitude', 'latitude']]\n",
    "df_coords.head()"
   ]
  },
  {
   "cell_type": "code",
   "execution_count": 15,
   "id": "9b4fed9e",
   "metadata": {},
   "outputs": [],
   "source": [
    "mel_coords = (144.946457, -37.840935) # coordinates of melbourne cbd"
   ]
  },
  {
   "cell_type": "code",
   "execution_count": 16,
   "id": "012a407c",
   "metadata": {},
   "outputs": [
    {
     "data": {
      "text/plain": [
       "(144.9997572, -37.837338)"
      ]
     },
     "execution_count": 16,
     "metadata": {},
     "output_type": "execute_result"
    }
   ],
   "source": [
    "tuples = [tuple(x) for x in df_coords.to_numpy()]\n",
    "tuples[0]"
   ]
  },
  {
   "cell_type": "code",
   "execution_count": 17,
   "id": "2abe8457",
   "metadata": {},
   "outputs": [],
   "source": [
    "dist = []"
   ]
  },
  {
   "cell_type": "code",
   "execution_count": null,
   "id": "6b251bc2",
   "metadata": {},
   "outputs": [],
   "source": [
    "# find the distance and time for each rental to melbourne cbd\n",
    "for i in range(0, 2000):\n",
    "    coords = (mel_coords, tuples[i])\n",
    "    #call API\n",
    "    res = client.directions(coords)\n",
    "    dist.append(res['routes'][0]['summary']['distance'] / 1000) \n"
   ]
  },
  {
   "cell_type": "code",
   "execution_count": null,
   "id": "102c3b45",
   "metadata": {},
   "outputs": [],
   "source": [
    "for i in range(2001, len(tuples)):\n",
    "    coords = (mel_coords, tuples[i])\n",
    "    #call API\n",
    "    res = client.directions(coords)\n",
    "    dist.append(res['routes'][0]['summary']['distance'] / 1000) "
   ]
  },
  {
   "cell_type": "code",
   "execution_count": 27,
   "id": "40fa21cb",
   "metadata": {},
   "outputs": [
    {
     "data": {
      "text/plain": [
       "282"
      ]
     },
     "execution_count": 27,
     "metadata": {},
     "output_type": "execute_result"
    }
   ],
   "source": [
    "# add into dataframe in km\n",
    "df['cbd_dist'] = dist"
   ]
  },
  {
   "cell_type": "code",
   "execution_count": null,
   "id": "51657421",
   "metadata": {},
   "outputs": [],
   "source": [
    "df.to_csv(r'../data/curated/data.csv', index = False)"
   ]
  },
  {
   "cell_type": "code",
   "execution_count": null,
   "id": "a9380e6d",
   "metadata": {},
   "outputs": [],
   "source": []
  }
 ],
 "metadata": {
  "kernelspec": {
   "display_name": "Python 3 (ipykernel)",
   "language": "python",
   "name": "python3"
  },
  "language_info": {
   "codemirror_mode": {
    "name": "ipython",
    "version": 3
   },
   "file_extension": ".py",
   "mimetype": "text/x-python",
   "name": "python",
   "nbconvert_exporter": "python",
   "pygments_lexer": "ipython3",
   "version": "3.9.7"
  }
 },
 "nbformat": 4,
 "nbformat_minor": 5
}
